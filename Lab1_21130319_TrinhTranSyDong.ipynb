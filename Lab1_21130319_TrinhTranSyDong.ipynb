{
  "nbformat": 4,
  "nbformat_minor": 0,
  "metadata": {
    "colab": {
      "provenance": [],
      "authorship_tag": "ABX9TyMbCf8v7/dyO3s6GUarepcQ",
      "include_colab_link": true
    },
    "kernelspec": {
      "name": "python3",
      "display_name": "Python 3"
    },
    "language_info": {
      "name": "python"
    }
  },
  "cells": [
    {
      "cell_type": "markdown",
      "metadata": {
        "id": "view-in-github",
        "colab_type": "text"
      },
      "source": [
        "<a href=\"https://colab.research.google.com/github/john9101/Lab_ML/blob/main/Lab1_21130319_TrinhTranSyDong.ipynb\" target=\"_parent\"><img src=\"https://colab.research.google.com/assets/colab-badge.svg\" alt=\"Open In Colab\"/></a>"
      ]
    },
    {
      "cell_type": "markdown",
      "source": [
        "# **TASK 1.1**"
      ],
      "metadata": {
        "id": "MBWpAlbSSyKq"
      }
    },
    {
      "cell_type": "code",
      "execution_count": null,
      "metadata": {
        "colab": {
          "base_uri": "https://localhost:8080/"
        },
        "id": "rUR-RAEA6Fgz",
        "outputId": "ad475030-bdfe-4476-b1e8-9b67d123508b"
      },
      "outputs": [
        {
          "output_type": "stream",
          "name": "stdout",
          "text": [
            "Nhap n: 5\n",
            "Nhap phan tu 1: -1\n",
            "Nhap phan tu 2: -2\n",
            "Nhap phan tu 3: 0\n",
            "Nhap phan tu 4: 10\n",
            "Nhap phan tu 5: 9\n",
            "Danh sach tao duoc la: [-1, -2, 0, 10, 9]\n",
            "Phan tu lon nhat cua danh sach la: 10\n",
            "Phan tu nho nhat cua danh sach la: -2\n",
            "Tong tat ca cac phan tu trong danh sach la: 16\n",
            "Danh sach sau khi duoc sap xep tang dan la: [-2, -1, 0, 9, 10]\n",
            "So phan tu duong la: 3\n",
            "So phan tu am la: 2\n"
          ]
        }
      ],
      "source": [
        "def task1_1(n):\n",
        "  list = []\n",
        "  i = 0\n",
        "  while i < n:\n",
        "    number = int(input(\"Nhap phan tu {}: \".format(i+1)))\n",
        "    list.append(number)\n",
        "    i = i + 1\n",
        "\n",
        "  print(\"Danh sach tao duoc la: {}\".format(list))\n",
        "  print(\"Phan tu lon nhat cua danh sach la: {}\".format(max(list)))\n",
        "  print(\"Phan tu nho nhat cua danh sach la: {}\".format(min(list)))\n",
        "  print(\"Tong tat ca cac phan tu trong danh sach la: {}\".format(sum(list)))\n",
        "\n",
        "  list.sort()\n",
        "  print(\"Danh sach sau khi duoc sap xep tang dan la: {}\".format(list))\n",
        "\n",
        "  pos_count, neg_count = 0, 0\n",
        "  for num in list:\n",
        "    if num >= 0:\n",
        "      pos_count += 1\n",
        "    elif num < 0:\n",
        "      neg_count += 1\n",
        "  print(\"So phan tu duong la: {}\".format(pos_count))\n",
        "  print(\"So phan tu am la: {}\".format(neg_count))\n",
        "\n",
        "task1_1(int(input(\"Nhap n: \")))"
      ]
    },
    {
      "cell_type": "markdown",
      "source": [
        "# **TASK 1.2**"
      ],
      "metadata": {
        "id": "cz1xrke4Sp13"
      }
    },
    {
      "cell_type": "code",
      "source": [
        "def task1_2(n):\n",
        "  s, p = 0, 1\n",
        "  for i in range(1, n + 1):\n",
        "    p = p * i\n",
        "    s = s + p\n",
        "  return s\n",
        "\n",
        "sum = task1_2(int(input(\"Nhap n: \")))\n",
        "print(\"Tong S la: {}\".format(sum))"
      ],
      "metadata": {
        "colab": {
          "base_uri": "https://localhost:8080/"
        },
        "id": "JGsm5R0SEVAL",
        "outputId": "1773f5b1-5742-4773-b4f3-aba402613758"
      },
      "execution_count": null,
      "outputs": [
        {
          "output_type": "stream",
          "name": "stdout",
          "text": [
            "Nhap n: 5\n",
            "Tong S la: 153\n"
          ]
        }
      ]
    },
    {
      "cell_type": "markdown",
      "source": [
        "# **TASK 1.3**"
      ],
      "metadata": {
        "id": "UKNiHvRESeYi"
      }
    },
    {
      "cell_type": "code",
      "source": [
        "from _typeshed import Self\n",
        "class Post:\n",
        "  def __init__(self, content, subject, likes):\n",
        "    self.__content = content\n",
        "    self.__subject = subject\n",
        "    self.__likes = likes\n",
        "\n",
        "  def getContent(self):\n",
        "    return self.__content\n",
        "\n",
        "  def getSubject(self):\n",
        "    return self.__subject\n",
        "\n",
        "  def getLikes(self):\n",
        "    return Self.__likes\n",
        "\n",
        "class Account:\n",
        "  def __init__(self, name, email, country, friends, posts):\n",
        "    self.__name = name\n",
        "    self.__email = email\n",
        "    self.__country = country\n",
        "    self.__friends = friends\n",
        "    self.__posts = posts\n",
        "\n",
        "  def getMaxLikePostByFriend():\n",
        "    targetFriend = None\n",
        "    for friend in __friends:\n",
        "      for post in friend.__posts:\n",
        "        if targetFriend == None:\n",
        "          targetFriend = friend\n",
        "        else\n",
        "\n",
        "class AccountManage:\n",
        "  def __init__(self, accounts):\n",
        "    self.__accounts = accounts\n",
        "\n",
        "\n",
        ""
      ],
      "metadata": {
        "id": "gg40gJ3SJATS"
      },
      "execution_count": null,
      "outputs": []
    },
    {
      "cell_type": "code",
      "source": [],
      "metadata": {
        "id": "Y5JYlcHHUUYM"
      },
      "execution_count": null,
      "outputs": []
    }
  ]
}